{
 "cells": [
  {
   "cell_type": "code",
   "execution_count": 1,
   "metadata": {},
   "outputs": [
    {
     "name": "stdout",
     "output_type": "stream",
     "text": [
      "Gehashte Zeichenkette: 50c93a1e83\n"
     ]
    }
   ],
   "source": [
    "import hashlib\n",
    "\n",
    "def short_hash_string(input_string, length):\n",
    "    # Konvertiere die Eingabe in Bytes\n",
    "    input_bytes = input_string.encode('utf-8')\n",
    "\n",
    "    # Erzeuge den Hashwert mit SHA-256\n",
    "    hashed_bytes = hashlib.sha256(input_bytes)\n",
    "\n",
    "    # Verkürze den Hashwert auf die gewünschte Länge\n",
    "    hashed_short = hashed_bytes.digest()[:length]\n",
    "\n",
    "    # Gib den verkürzten Hashwert als Hexadezimalzeichenfolge zurück\n",
    "    return hashed_short.hex()\n",
    "\n",
    "# Beispielaufruf\n",
    "input_string = \"Node1094s59745\"\n",
    "hashed_string = short_hash_string(input_string, 5)\n",
    "print(\"Gehashte Zeichenkette:\", hashed_string)\n"
   ]
  }
 ],
 "metadata": {
  "kernelspec": {
   "display_name": "datascience",
   "language": "python",
   "name": "python3"
  },
  "language_info": {
   "codemirror_mode": {
    "name": "ipython",
    "version": 3
   },
   "file_extension": ".py",
   "mimetype": "text/x-python",
   "name": "python",
   "nbconvert_exporter": "python",
   "pygments_lexer": "ipython3",
   "version": "3.12.2"
  }
 },
 "nbformat": 4,
 "nbformat_minor": 2
}
