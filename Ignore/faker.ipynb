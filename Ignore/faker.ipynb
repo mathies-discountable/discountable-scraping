{
 "cells": [
  {
   "cell_type": "code",
   "execution_count": 1,
   "metadata": {},
   "outputs": [],
   "source": [
    "import pandas as pd\n",
    "import numpy as np\n",
    "from faker import Faker\n",
    "\n",
    "# Initialisieren von Faker zur Erzeugung simulierter Daten\n",
    "fake = Faker()\n",
    "\n",
    "# Definieren einer Funktion zur Erstellung eines Dummy-Datensatzes\n",
    "def create_dummy_data(num_entries=5):\n",
    "    data = []\n",
    "    for _ in range(num_entries):\n",
    "        entry = {\n",
    "            'name': fake.company(),\n",
    "            'website': fake.url(),\n",
    "            'street': fake.street_name(),\n",
    "            'house_number': fake.building_number(),\n",
    "            'city': fake.city(),\n",
    "            'post_code': fake.postcode(),\n",
    "            'latitude': fake.latitude(),\n",
    "            'longitude': fake.longitude(),\n",
    "            'phone_number': fake.phone_number(),\n",
    "            'wheelchair_accessible_entrance': fake.boolean(),\n",
    "            'opening_hour': f\"{fake.day_of_week()}, {fake.time()}–{fake.time()}\",\n",
    "            'error_code': None,\n",
    "            'email': fake.email(),\n",
    "            'locality_id': fake.bothify(text='??????????'),\n",
    "            'locality_type': fake.word(ext_word_list=['spa', 'gym', 'pool', 'cafe', 'restaurant']),\n",
    "            'website_content': None,\n",
    "            'has_been_analysed': fake.boolean()\n",
    "        }\n",
    "        data.append(entry)\n",
    "    \n",
    "    return pd.DataFrame(data)\n",
    "\n",
    "# Erstellen von 10 Dummy-Datensätzen\n",
    "dummy_data_df = create_dummy_data(5)\n",
    "\n",
    "dummy_data_df.to_csv('dummy_data.csv', index=False)\n"
   ]
  }
 ],
 "metadata": {
  "kernelspec": {
   "display_name": "datascience",
   "language": "python",
   "name": "python3"
  },
  "language_info": {
   "codemirror_mode": {
    "name": "ipython",
    "version": 3
   },
   "file_extension": ".py",
   "mimetype": "text/x-python",
   "name": "python",
   "nbconvert_exporter": "python",
   "pygments_lexer": "ipython3",
   "version": "3.12.2"
  }
 },
 "nbformat": 4,
 "nbformat_minor": 2
}
